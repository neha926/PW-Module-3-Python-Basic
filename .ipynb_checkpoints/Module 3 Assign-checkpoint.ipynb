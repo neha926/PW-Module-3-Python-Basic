{
 "cells": [
  {
   "cell_type": "markdown",
   "id": "d478fa8f-1c04-44db-982c-2458365fcbc0",
   "metadata": {},
   "source": [
    "**Module 3 Assignment Questions**"
   ]
  },
  {
   "cell_type": "markdown",
   "id": "171d72b0-6f03-45a2-b98c-b1de7d9963f2",
   "metadata": {},
   "source": [
    "1. What is Python, and why is it popular?\n",
    "Python is a high-level programming language. It's popular because it is easy to read, easy to learn, and has many useful libraries."
   ]
  },
  {
   "cell_type": "markdown",
   "id": "3b1812f1-942d-4fa3-8635-8416bef680bd",
   "metadata": {},
   "source": [
    "2. What is an interpreter in Python?\n",
    "An interpreter reads and runs Python code line by line."
   ]
  },
  {
   "cell_type": "markdown",
   "id": "9b8438a3-3086-459b-871a-ce2eeb003a0b",
   "metadata": {},
   "source": [
    "3. What are pre-defined keywords in Python?\n",
    "Pre-defined keywords are special words already defined in Python like if, for, while, True, etc."
   ]
  },
  {
   "cell_type": "markdown",
   "id": "3bb1a7aa-516a-428c-93bb-2cad21fb0a22",
   "metadata": {},
   "source": [
    "4. Can keywords be used as variable names?\n",
    "No, you cannot use keywords as variable names because they have special meanings in Python."
   ]
  },
  {
   "cell_type": "markdown",
   "id": "1991cfe6-1aef-4405-ac86-c1da12bf807e",
   "metadata": {},
   "source": [
    "5. What is mutability in Python?\n",
    "Mutability means whether you can change the value of an object after creating it. Mutable = can change, Immutable = cannot change."
   ]
  },
  {
   "cell_type": "markdown",
   "id": "85002b38-1e1c-4a51-9a30-c56f42b22f86",
   "metadata": {},
   "source": [
    "6. Why are lists mutable, but tuples are immutable?\n",
    "Lists can be changed (add, remove, or update items), so they are mutable. Tuples cannot be changed after creation, so they are immutable."
   ]
  },
  {
   "cell_type": "markdown",
   "id": "20d5ce5d-9be4-4125-9e92-602c1675182b",
   "metadata": {},
   "source": [
    "7. What is the difference between “==” and “is” operators in Python?\n",
    "== checks if values are equal.\n",
    "is checks if both variables point to the same object in memory."
   ]
  },
  {
   "cell_type": "markdown",
   "id": "7a51551e-7393-4976-83b0-9ecb42a18824",
   "metadata": {},
   "source": [
    "8. What are logical operators in Python?\n",
    "Logical operators are used to combine conditions. They are:\n",
    "and (both must be true)\n",
    "\n",
    "or (at least one must be true)\n",
    "\n",
    "not (reverse the result)"
   ]
  },
  {
   "cell_type": "markdown",
   "id": "2020e0fd-e984-4644-b75b-3f5343214833",
   "metadata": {},
   "source": [
    "9. What is type casting in Python?\n",
    "Type casting means converting one data type into another. Example: int(\"5\") converts string \"5\" to integer 5."
   ]
  },
  {
   "cell_type": "markdown",
   "id": "4bf14b00-8451-4991-b31d-84554bf0c5d7",
   "metadata": {},
   "source": [
    "10. What is the difference between implicit and explicit type casting?\n",
    "\n",
    "Implicit: Python changes the type automatically.\n",
    "Explicit: You change the type using functions like int(), float(), etc."
   ]
  },
  {
   "cell_type": "markdown",
   "id": "a732a212-6273-43aa-a803-2666fc30f9c9",
   "metadata": {},
   "source": [
    "11. What is the purpose of conditional statements in Python?\n",
    "Conditional statements like if, else help the program make decisions and run code only when a condition is true."
   ]
  },
  {
   "cell_type": "markdown",
   "id": "f41d9d50-0237-4387-a8a5-bcdcf08c5554",
   "metadata": {},
   "source": [
    "12. How does the elif statement work?\n",
    "elif is used when you have more than two conditions. It checks the next condition if the first if is false."
   ]
  },
  {
   "cell_type": "markdown",
   "id": "8a0cd76a-c1a6-496d-b5dd-8e420b0f9d43",
   "metadata": {},
   "source": [
    "13. What is the difference between for and while loops?\n",
    "\n",
    "for loop is used when you know how many times to repeat.\n",
    "while loop is used when you repeat until a condition becomes false."
   ]
  },
  {
   "cell_type": "markdown",
   "id": "ff4600e1-8490-4682-b788-4bc9a1d798c8",
   "metadata": {},
   "source": [
    "14. Describe a scenario where a while loop is more suitable than a for loop.\n",
    "If you are asking a user for input until they type \"exit\", you don't know how many times it will repeat. So while loop is better."
   ]
  },
  {
   "cell_type": "code",
   "execution_count": null,
   "id": "fb795dce-3817-4ca0-8628-fe271739478d",
   "metadata": {},
   "outputs": [],
   "source": []
  },
  {
   "cell_type": "markdown",
   "id": "d47dab8d-0bfb-47c5-9002-26ad592bee13",
   "metadata": {},
   "source": [
    "**Practical Questions**"
   ]
  },
  {
   "cell_type": "code",
   "execution_count": 1,
   "id": "55eeba86-655b-4af5-808d-90f110fc2940",
   "metadata": {},
   "outputs": [
    {
     "name": "stdout",
     "output_type": "stream",
     "text": [
      "Hello, World!\n"
     ]
    }
   ],
   "source": [
    "# 1. Print \"Hello, World!\"\n",
    "print(\"Hello, World!\")\n"
   ]
  },
  {
   "cell_type": "code",
   "execution_count": 2,
   "id": "79f22404-da5f-45c7-8cde-e5e2c6001500",
   "metadata": {},
   "outputs": [
    {
     "name": "stdout",
     "output_type": "stream",
     "text": [
      "Name: Neha\n",
      "Age: 23\n"
     ]
    }
   ],
   "source": [
    "# 2. Display your name and age\n",
    "name = \"Neha\"\n",
    "age = 23\n",
    "print(\"Name:\", name)\n",
    "print(\"Age:\", age)\n"
   ]
  },
  {
   "cell_type": "code",
   "execution_count": 3,
   "id": "c8668b81-2f77-499d-874b-5ff34c5c5eee",
   "metadata": {},
   "outputs": [
    {
     "name": "stdout",
     "output_type": "stream",
     "text": [
      "Python Keywords:\n",
      "['False', 'None', 'True', 'and', 'as', 'assert', 'async', 'await', 'break', 'class', 'continue', 'def', 'del', 'elif', 'else', 'except', 'finally', 'for', 'from', 'global', 'if', 'import', 'in', 'is', 'lambda', 'nonlocal', 'not', 'or', 'pass', 'raise', 'return', 'try', 'while', 'with', 'yield']\n"
     ]
    }
   ],
   "source": [
    "# 3. Print all pre-defined keywords using keyword module\n",
    "import keyword\n",
    "print(\"Python Keywords:\")\n",
    "print(keyword.kwlist)\n"
   ]
  },
  {
   "cell_type": "code",
   "execution_count": 5,
   "id": "9b9b6d6a-9494-4c9b-a07e-65b674644cfa",
   "metadata": {},
   "outputs": [
    {
     "name": "stdin",
     "output_type": "stream",
     "text": [
      "Enter a word:  any\n"
     ]
    },
    {
     "name": "stdout",
     "output_type": "stream",
     "text": [
      "'any' is not a Python keyword.\n"
     ]
    }
   ],
   "source": [
    "# 4. Check if a word is a Python keyword\n",
    "import keyword\n",
    "\n",
    "word = input(\"Enter a word: \")\n",
    "if keyword.iskeyword(word):\n",
    "    print(f\"'{word}' is a Python keyword.\")\n",
    "else:\n",
    "    print(f\"'{word}' is not a Python keyword.\")\n"
   ]
  },
  {
   "cell_type": "code",
   "execution_count": 6,
   "id": "65230e04-8bac-4cf0-befa-e3341fe6b293",
   "metadata": {},
   "outputs": [
    {
     "name": "stdout",
     "output_type": "stream",
     "text": [
      "Modified list (mutable): [1, 2, 3, 100]\n",
      "Original number (immutable): 5\n",
      "Returned new number: 15\n"
     ]
    }
   ],
   "source": [
    "# 5. Demonstrate mutable vs immutable arguments\n",
    "def modify_list(lst):\n",
    "    lst.append(100)\n",
    "\n",
    "def modify_number(n):\n",
    "    n += 10\n",
    "    return n\n",
    "\n",
    "my_list = [1, 2, 3]\n",
    "my_number = 5\n",
    "\n",
    "modify_list(my_list)\n",
    "new_number = modify_number(my_number)\n",
    "\n",
    "print(\"Modified list (mutable):\", my_list)\n",
    "print(\"Original number (immutable):\", my_number)\n",
    "print(\"Returned new number:\", new_number)\n"
   ]
  },
  {
   "cell_type": "code",
   "execution_count": 7,
   "id": "fe8c96db-f627-4415-b425-edb24fbe3083",
   "metadata": {},
   "outputs": [
    {
     "name": "stdin",
     "output_type": "stream",
     "text": [
      "Enter first number:  3.2\n",
      "Enter second number:  4.5\n"
     ]
    },
    {
     "name": "stdout",
     "output_type": "stream",
     "text": [
      "Addition: 7.7\n",
      "Subtraction: -1.2999999999999998\n",
      "Multiplication: 14.4\n",
      "Division: 0.7111111111111111\n"
     ]
    }
   ],
   "source": [
    "# 6. Basic arithmetic operations on user-input numbers\n",
    "a = float(input(\"Enter first number: \"))\n",
    "b = float(input(\"Enter second number: \"))\n",
    "\n",
    "print(\"Addition:\", a + b)\n",
    "print(\"Subtraction:\", a - b)\n",
    "print(\"Multiplication:\", a * b)\n",
    "print(\"Division:\", a / b)\n"
   ]
  },
  {
   "cell_type": "code",
   "execution_count": 8,
   "id": "ff6d9382-acae-4274-bdf9-e9e180caa3fa",
   "metadata": {},
   "outputs": [
    {
     "name": "stdout",
     "output_type": "stream",
     "text": [
      "True\n",
      "True\n",
      "False\n"
     ]
    }
   ],
   "source": [
    "# 7. Use of logical operators\n",
    "x = 10\n",
    "y = 5\n",
    "\n",
    "print(x > 5 and y < 10)\n",
    "print(x < 5 or y < 10)\n",
    "print(not (x == 10))\n"
   ]
  },
  {
   "cell_type": "code",
   "execution_count": 9,
   "id": "bff6c148-e99e-45fe-a465-f72dc9e66581",
   "metadata": {},
   "outputs": [
    {
     "name": "stdout",
     "output_type": "stream",
     "text": [
      "Modified list: [10, 2, 3]\n"
     ]
    }
   ],
   "source": [
    "# 8. List vs Tuple mutability\n",
    "my_list = [1, 2, 3]\n",
    "my_tuple = (1, 2, 3)\n",
    "\n",
    "my_list[0] = 10  # This works\n",
    "print(\"Modified list:\", my_list)\n",
    "\n",
    "# my_tuple[0] = 10  # This will give an error (uncomment to test)\n"
   ]
  },
  {
   "cell_type": "code",
   "execution_count": 11,
   "id": "8c623d01-b223-40b3-a037-1ead3e366d2f",
   "metadata": {},
   "outputs": [
    {
     "name": "stdin",
     "output_type": "stream",
     "text": [
      "Enter something:  4\n"
     ]
    },
    {
     "name": "stdout",
     "output_type": "stream",
     "text": [
      "As Integer: 4\n",
      "As Float: 4.0\n",
      "As Boolean: True\n"
     ]
    }
   ],
   "source": [
    "# 9. Convert user input to int, float, bool\n",
    "value = input(\"Enter something: \")\n",
    "\n",
    "int_val = int(value)\n",
    "float_val = float(value)\n",
    "bool_val = bool(value)\n",
    "\n",
    "print(\"As Integer:\", int_val)\n",
    "print(\"As Float:\", float_val)\n",
    "print(\"As Boolean:\", bool_val)\n"
   ]
  },
  {
   "cell_type": "code",
   "execution_count": 12,
   "id": "21d8072a-5e8b-42a4-ab57-e7c0dc9da8d8",
   "metadata": {},
   "outputs": [
    {
     "name": "stdout",
     "output_type": "stream",
     "text": [
      "Converted list: [1, 2, 3]\n"
     ]
    }
   ],
   "source": [
    "# 10. Type casting with list elements\n",
    "str_list = ['1', '2', '3']\n",
    "int_list = [int(x) for x in str_list]\n",
    "print(\"Converted list:\", int_list)\n"
   ]
  },
  {
   "cell_type": "code",
   "execution_count": 14,
   "id": "d9197a2b-3b8a-4c8d-be5a-78f82c9e7cf8",
   "metadata": {},
   "outputs": [
    {
     "name": "stdin",
     "output_type": "stream",
     "text": [
      "Enter a number:  -1\n"
     ]
    },
    {
     "name": "stdout",
     "output_type": "stream",
     "text": [
      "Negative\n"
     ]
    }
   ],
   "source": [
    "# 11. Check if number is positive, negative, or zero\n",
    "num = float(input(\"Enter a number: \"))\n",
    "\n",
    "if num > 0:\n",
    "    print(\"Positive\")\n",
    "elif num < 0:\n",
    "    print(\"Negative\")\n",
    "else:\n",
    "    print(\"Zero\")\n"
   ]
  },
  {
   "cell_type": "code",
   "execution_count": 15,
   "id": "e44c67ed-0187-40ef-a597-bd6ee17c369b",
   "metadata": {},
   "outputs": [
    {
     "name": "stdout",
     "output_type": "stream",
     "text": [
      "1\n",
      "2\n",
      "3\n",
      "4\n",
      "5\n",
      "6\n",
      "7\n",
      "8\n",
      "9\n",
      "10\n"
     ]
    }
   ],
   "source": [
    "# 12. For loop to print numbers 1 to 10\n",
    "for i in range(1, 11):\n",
    "    print(i)\n"
   ]
  },
  {
   "cell_type": "code",
   "execution_count": 16,
   "id": "d5b1f4ce-e7ef-4510-a30e-6e3a05004d97",
   "metadata": {},
   "outputs": [
    {
     "name": "stdout",
     "output_type": "stream",
     "text": [
      "Sum of even numbers from 1 to 50: 650\n"
     ]
    }
   ],
   "source": [
    "# 13. Sum of even numbers from 1 to 50\n",
    "total = 0\n",
    "for i in range(2, 51, 2):\n",
    "    total += i\n",
    "print(\"Sum of even numbers from 1 to 50:\", total)\n"
   ]
  },
  {
   "cell_type": "code",
   "execution_count": 18,
   "id": "ecaf7539-bd18-4429-a69c-ed3d29e3519c",
   "metadata": {},
   "outputs": [
    {
     "name": "stdin",
     "output_type": "stream",
     "text": [
      "Enter a string:  YUNSU\n"
     ]
    },
    {
     "name": "stdout",
     "output_type": "stream",
     "text": [
      "Reversed string: USNUY\n"
     ]
    }
   ],
   "source": [
    "# 14. Reverse a string using while loop\n",
    "text = input(\"Enter a string: \")\n",
    "reversed_text = \"\"\n",
    "i = len(text) - 1\n",
    "\n",
    "while i >= 0:\n",
    "    reversed_text += text[i]\n",
    "    i -= 1\n",
    "\n",
    "print(\"Reversed string:\", reversed_text)\n"
   ]
  },
  {
   "cell_type": "code",
   "execution_count": 19,
   "id": "88cc1f2d-391f-44b6-a8c9-4f82b51b0d25",
   "metadata": {},
   "outputs": [
    {
     "name": "stdin",
     "output_type": "stream",
     "text": [
      "Enter a number:  7\n"
     ]
    },
    {
     "name": "stdout",
     "output_type": "stream",
     "text": [
      "Factorial: 5040\n"
     ]
    }
   ],
   "source": [
    "# 15. Factorial using while loop\n",
    "num = int(input(\"Enter a number: \"))\n",
    "fact = 1\n",
    "i = 1\n",
    "\n",
    "while i <= num:\n",
    "    fact *= i\n",
    "    i += 1\n",
    "\n",
    "print(\"Factorial:\", fact)\n"
   ]
  },
  {
   "cell_type": "code",
   "execution_count": null,
   "id": "59efd090-5440-402b-927a-cae9678a33b2",
   "metadata": {},
   "outputs": [],
   "source": []
  },
  {
   "cell_type": "code",
   "execution_count": null,
   "id": "6e15e641-0fad-4399-8993-19350623c445",
   "metadata": {},
   "outputs": [],
   "source": []
  }
 ],
 "metadata": {
  "kernelspec": {
   "display_name": "Python 3 (ipykernel)",
   "language": "python",
   "name": "python3"
  },
  "language_info": {
   "codemirror_mode": {
    "name": "ipython",
    "version": 3
   },
   "file_extension": ".py",
   "mimetype": "text/x-python",
   "name": "python",
   "nbconvert_exporter": "python",
   "pygments_lexer": "ipython3",
   "version": "3.13.5"
  }
 },
 "nbformat": 4,
 "nbformat_minor": 5
}
