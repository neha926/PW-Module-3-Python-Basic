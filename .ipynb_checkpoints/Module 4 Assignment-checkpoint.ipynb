{
 "cells": [
  {
   "cell_type": "markdown",
   "id": "c916e404-d658-460c-9f16-4da47fa73f9f",
   "metadata": {},
   "source": [
    "**Assignment Questions**"
   ]
  },
  {
   "cell_type": "markdown",
   "id": "9f9107d0-cd73-46f3-bffb-af39826022dd",
   "metadata": {},
   "source": [
    "1. What are data structures, and why are they important?\n",
    "Data structures are ways to store and organize data for efficient use.\n",
    "They are important because they help in managing large amounts of data quickly, enabling better performance in searching, sorting, and modifying data."
   ]
  },
  {
   "cell_type": "markdown",
   "id": "1e2aa475-ccf0-41f7-bfa2-5b97a7464eed",
   "metadata": {},
   "source": [
    "2. Difference between mutable and immutable data types (with examples):\n",
    "Mutable = Can be changed after creation (e.g., list, dict, set)"
   ]
  },
  {
   "cell_type": "code",
   "execution_count": 1,
   "id": "53296b59-6f9d-43ac-a130-1f778294d6b2",
   "metadata": {},
   "outputs": [],
   "source": [
    "my_list = [1, 2, 3]  \n",
    "my_list[0] = 100  # Changed"
   ]
  },
  {
   "cell_type": "markdown",
   "id": "fb79dd21-1759-4503-a006-3833d67b3e3b",
   "metadata": {},
   "source": [
    "Immutable = Cannot be changed after creation (e.g., int, str, tuple)"
   ]
  },
  {
   "cell_type": "code",
   "execution_count": 2,
   "id": "0941e015-a657-42cd-9e0b-74efa6f87667",
   "metadata": {},
   "outputs": [
    {
     "ename": "TypeError",
     "evalue": "'str' object does not support item assignment",
     "output_type": "error",
     "traceback": [
      "\u001b[31m---------------------------------------------------------------------------\u001b[39m",
      "\u001b[31mTypeError\u001b[39m                                 Traceback (most recent call last)",
      "\u001b[36mCell\u001b[39m\u001b[36m \u001b[39m\u001b[32mIn[2]\u001b[39m\u001b[32m, line 2\u001b[39m\n\u001b[32m      1\u001b[39m my_str = \u001b[33m\"\u001b[39m\u001b[33mhello\u001b[39m\u001b[33m\"\u001b[39m  \n\u001b[32m----> \u001b[39m\u001b[32m2\u001b[39m \u001b[43mmy_str\u001b[49m\u001b[43m[\u001b[49m\u001b[32;43m0\u001b[39;49m\u001b[43m]\u001b[49m = \u001b[33m\"\u001b[39m\u001b[33mH\u001b[39m\u001b[33m\"\u001b[39m  \u001b[38;5;66;03m# Error\u001b[39;00m\n",
      "\u001b[31mTypeError\u001b[39m: 'str' object does not support item assignment"
     ]
    }
   ],
   "source": [
    "my_str = \"hello\"  \n",
    "my_str[0] = \"H\"  # Error\n"
   ]
  },
  {
   "cell_type": "markdown",
   "id": "fd91618b-4914-476f-b110-13c344805533",
   "metadata": {},
   "source": [
    "3. Main differences between lists and tuples in Python:"
   ]
  },
  {
   "cell_type": "markdown",
   "id": "464d2fc3-17d3-4e2e-a859-e214056549fe",
   "metadata": {},
   "source": [
    " Feature      List          Tuple                \n",
    " -----------  ------------  -------------------- \n",
    " Mutable      Yes            No                 \n",
    " Syntax       `[1, 2, 3]`   `(1, 2, 3)`          \n",
    " Performance  Slower        Faster               \n",
    " Use case     Dynamic data  Fixed/read-only data \n"
   ]
  },
  {
   "cell_type": "markdown",
   "id": "df2a57a8-721a-4354-b5ae-31278fa98fbb",
   "metadata": {},
   "source": [
    "4. How dictionaries store data:\n",
    "Dictionaries store data in key-value pairs using a hash table internally. Each key is unique and is hashed to store and retrieve values efficiently."
   ]
  },
  {
   "cell_type": "code",
   "execution_count": 3,
   "id": "2a4e5c08-e414-4561-b697-20f28ca5c081",
   "metadata": {},
   "outputs": [
    {
     "name": "stdout",
     "output_type": "stream",
     "text": [
      "{'name': 'Neha', 'age': 25}\n"
     ]
    }
   ],
   "source": [
    "person = {\"name\": \"Neha\", \"age\": 25}\n",
    "print(person)"
   ]
  },
  {
   "cell_type": "markdown",
   "id": "ed1f9ea1-8f0c-4b67-b802-7cd9047e96d3",
   "metadata": {},
   "source": [
    "5. Why use a set instead of a list in Python:\n",
    "Sets remove duplicates automatically\n",
    "\n",
    "Faster lookup due to hashing"
   ]
  },
  {
   "cell_type": "code",
   "execution_count": 5,
   "id": "95a816cb-8685-435b-8cb0-6fcc5674d3ae",
   "metadata": {},
   "outputs": [
    {
     "name": "stdout",
     "output_type": "stream",
     "text": [
      "[1, 2, 2, 3]\n"
     ]
    }
   ],
   "source": [
    "my_list = [1, 2, 2, 3]\n",
    "print(my_list)"
   ]
  },
  {
   "cell_type": "code",
   "execution_count": 6,
   "id": "1eccf444-a057-4172-b232-785e21c6a8ab",
   "metadata": {},
   "outputs": [
    {
     "name": "stdout",
     "output_type": "stream",
     "text": [
      "{1, 2, 3}\n"
     ]
    }
   ],
   "source": [
    "my_set = set(my_list)  # {1, 2, 3}\n",
    "print(my_set)"
   ]
  },
  {
   "cell_type": "code",
   "execution_count": null,
   "id": "897625d0-51f9-4b64-b850-db5e0854d33b",
   "metadata": {},
   "outputs": [],
   "source": [
    "6. What is a string in Python, and how is it different from a list?\n",
    "String: A sequence of characters, immutable.\n",
    "List: A sequence of items, mutable."
   ]
  },
  {
   "cell_type": "code",
   "execution_count": 7,
   "id": "cd5abbf9-d241-4cad-9e7d-7e5f7e897f93",
   "metadata": {},
   "outputs": [
    {
     "ename": "TypeError",
     "evalue": "'str' object does not support item assignment",
     "output_type": "error",
     "traceback": [
      "\u001b[31m---------------------------------------------------------------------------\u001b[39m",
      "\u001b[31mTypeError\u001b[39m                                 Traceback (most recent call last)",
      "\u001b[36mCell\u001b[39m\u001b[36m \u001b[39m\u001b[32mIn[7]\u001b[39m\u001b[32m, line 2\u001b[39m\n\u001b[32m      1\u001b[39m s = \u001b[33m\"\u001b[39m\u001b[33mhello\u001b[39m\u001b[33m\"\u001b[39m  \u001b[38;5;66;03m# Immutable\u001b[39;00m\n\u001b[32m----> \u001b[39m\u001b[32m2\u001b[39m \u001b[43ms\u001b[49m\u001b[43m[\u001b[49m\u001b[32;43m0\u001b[39;49m\u001b[43m]\u001b[49m=\u001b[33m\"\u001b[39m\u001b[33mR\u001b[39m\u001b[33m\"\u001b[39m\n\u001b[32m      3\u001b[39m \u001b[38;5;28mprint\u001b[39m(s[\u001b[32m0\u001b[39m])\n",
      "\u001b[31mTypeError\u001b[39m: 'str' object does not support item assignment"
     ]
    }
   ],
   "source": [
    "s = \"hello\"  # Immutable\n",
    "s[0]=\"R\"\n",
    "print(s[0])\n"
   ]
  },
  {
   "cell_type": "code",
   "execution_count": 9,
   "id": "fe2e72ea-e765-4fa6-a81f-d76829ea82fa",
   "metadata": {},
   "outputs": [
    {
     "name": "stdout",
     "output_type": "stream",
     "text": [
      "['R', 'e', 'l', 'l', 'o']\n"
     ]
    }
   ],
   "source": [
    "# List: A sequence of items, mutable.\n",
    "l = ['h', 'e', 'l', 'l', 'o']  # Mutable\n",
    "l[0]=\"R\"\n",
    "print(l)"
   ]
  },
  {
   "cell_type": "markdown",
   "id": "8f67923c-1c94-4138-8331-e3b88b6a46ca",
   "metadata": {},
   "source": [
    "7. How do tuples ensure data integrity in Python?\n",
    "Because tuples are immutable, the data inside them cannot be changed accidentally, which protects data integrity."
   ]
  },
  {
   "cell_type": "markdown",
   "id": "51e6b1ba-dd31-46ec-8059-79f833887c25",
   "metadata": {},
   "source": [
    "8. What is a hash table, and how does it relate to dictionaries in Python?\n",
    "A hash table is a data structure that maps keys to values using a hash function.\n",
    "Python's dict uses a hash table under the hood for fast access to values by keys."
   ]
  },
  {
   "cell_type": "markdown",
   "id": "9b7fefd3-feaf-4fda-b692-5a37a5e32408",
   "metadata": {},
   "source": [
    "9. Can lists contain different data types in Python?\n",
    "Yes. Lists in Python can store mixed data types."
   ]
  },
  {
   "cell_type": "code",
   "execution_count": 10,
   "id": "d9f78523-3d9b-496d-a05b-a2a1ec7300b6",
   "metadata": {},
   "outputs": [
    {
     "data": {
      "text/plain": [
       "list"
      ]
     },
     "execution_count": 10,
     "metadata": {},
     "output_type": "execute_result"
    }
   ],
   "source": [
    "my_list = [1, \"hello\", 3.14, [5, 6]]\n",
    "type(my_list)"
   ]
  },
  {
   "cell_type": "markdown",
   "id": "409fa865-5584-47d5-9c2f-f88cbf8d7e26",
   "metadata": {},
   "source": [
    "10. Why are strings immutable in Python?\n",
    "To make strings safe and fast\n",
    "\n",
    "Enables hashing, so strings can be used as dict keys"
   ]
  },
  {
   "cell_type": "markdown",
   "id": "b6d5737a-94f3-4e28-8038-ac6cdd886ae7",
   "metadata": {},
   "source": [
    "11. Advantages of dictionaries over lists:\n",
    "Faster lookup by key (O(1))\n",
    "\n",
    "More meaningful data with key-value pairs"
   ]
  },
  {
   "cell_type": "markdown",
   "id": "7a2c2e2e-c5a0-4e99-808f-b219ab07bed6",
   "metadata": {},
   "source": [
    "12. Scenario where using a tuple is better than a list:\n",
    "Storing GPS coordinates (latitude, longitude) that should not change:"
   ]
  },
  {
   "cell_type": "code",
   "execution_count": 12,
   "id": "f4c1c393-31f0-457a-ab39-9f78b413b5a3",
   "metadata": {},
   "outputs": [
    {
     "name": "stdout",
     "output_type": "stream",
     "text": [
      "(28.6139, 77.209)\n"
     ]
    }
   ],
   "source": [
    "# Coordinates of a fixed GPS location\n",
    "location = (28.6139, 77.2090)  # Delhi's latitude and longitude\n",
    "print(location)"
   ]
  },
  {
   "cell_type": "code",
   "execution_count": 13,
   "id": "f63675bc-2ae0-4bf1-aeb1-a7893a0de286",
   "metadata": {},
   "outputs": [
    {
     "name": "stdout",
     "output_type": "stream",
     "text": [
      "('January', 'February', 'March', Ellipsis) ('North', 'South', 'East', 'West')\n"
     ]
    }
   ],
   "source": [
    "months = (\"January\", \"February\", \"March\", ...)  #Cause It's Immutable also\n",
    "directions = (\"North\", \"South\", \"East\", \"West\")  \n",
    "print(months,directions)"
   ]
  },
  {
   "cell_type": "markdown",
   "id": "bfe72853-2441-4057-9249-5db306bf8705",
   "metadata": {},
   "source": [
    "13. How do sets handle duplicate values in Python?\n",
    "Duplicates are automatically removed."
   ]
  },
  {
   "cell_type": "code",
   "execution_count": 14,
   "id": "61aa01c6-db2d-4295-a519-502808fae592",
   "metadata": {},
   "outputs": [
    {
     "name": "stdout",
     "output_type": "stream",
     "text": [
      "{1, 2, 3}\n"
     ]
    }
   ],
   "source": [
    "s = set([1, 2, 2, 3])  # {1, 2, 3}\n",
    "print(s)"
   ]
  },
  {
   "cell_type": "code",
   "execution_count": null,
   "id": "6ba1a86d-15cd-49b3-b2c6-71209809ecf1",
   "metadata": {},
   "outputs": [],
   "source": [
    "14. How does the “in” keyword work for lists vs dictionaries?\n",
    "List: Checks if a value exists"
   ]
  },
  {
   "cell_type": "code",
   "execution_count": 15,
   "id": "3b71b897-a87e-4eab-9b1a-9041a4dce842",
   "metadata": {},
   "outputs": [
    {
     "data": {
      "text/plain": [
       "True"
      ]
     },
     "execution_count": 15,
     "metadata": {},
     "output_type": "execute_result"
    }
   ],
   "source": [
    "3 in [1, 2, 3]   "
   ]
  },
  {
   "cell_type": "markdown",
   "id": "811b82b8-30b5-4b17-9995-14d5d3f5dd84",
   "metadata": {},
   "source": [
    "Dict: Checks if a key exists"
   ]
  },
  {
   "cell_type": "code",
   "execution_count": 16,
   "id": "266a26f8-9dce-4508-939a-055dcf5c02d6",
   "metadata": {},
   "outputs": [
    {
     "data": {
      "text/plain": [
       "True"
      ]
     },
     "execution_count": 16,
     "metadata": {},
     "output_type": "execute_result"
    }
   ],
   "source": [
    "\"name\" in {\"name\": \"Neha\"} "
   ]
  },
  {
   "cell_type": "markdown",
   "id": "b2e353c7-a2e9-404a-bb6a-399bb4626ca4",
   "metadata": {},
   "source": [
    "15. Can you modify tuple elements? Why/why not?\n",
    "No. Tuples are immutable, so you cannot change, add, or remove elements."
   ]
  },
  {
   "cell_type": "markdown",
   "id": "acd2e373-6a68-4228-945a-27c6597b8db7",
   "metadata": {},
   "source": [
    "16. What is a nested dictionary? Example use case:\n",
    "A dictionary inside a dictionary.\n",
    "Useful for structured data like student records:"
   ]
  },
  {
   "cell_type": "code",
   "execution_count": 19,
   "id": "7e40b979-5596-47bc-8d77-d6a4f438890d",
   "metadata": {},
   "outputs": [
    {
     "data": {
      "text/plain": [
       "dict"
      ]
     },
     "execution_count": 19,
     "metadata": {},
     "output_type": "execute_result"
    }
   ],
   "source": [
    "students = {\n",
    "  \"001\": {\"name\": \"Neha\", \"age\": 20},\n",
    "  \"002\": {\"name\": \"Amit\", \"age\": 21}\n",
    "}\n",
    "type(students)\n"
   ]
  },
  {
   "cell_type": "code",
   "execution_count": 20,
   "id": "f62cf81f-ca75-4323-9c92-b2f70f03dbd2",
   "metadata": {},
   "outputs": [
    {
     "data": {
      "text/plain": [
       "dict"
      ]
     },
     "execution_count": 20,
     "metadata": {},
     "output_type": "execute_result"
    }
   ],
   "source": [
    "type(students[\"001\"])"
   ]
  },
  {
   "cell_type": "code",
   "execution_count": 21,
   "id": "3713ee3b-5005-407a-9e9a-edb7ffdacd0b",
   "metadata": {},
   "outputs": [
    {
     "name": "stdout",
     "output_type": "stream",
     "text": [
      "{'001': {'name': 'Neha', 'age': 20}, '002': {'name': 'Amit', 'age': 21}}\n"
     ]
    }
   ],
   "source": [
    "print(students)"
   ]
  },
  {
   "cell_type": "markdown",
   "id": "4ab72eb0-5d23-4ec8-b642-4b8e8f1c5813",
   "metadata": {},
   "source": [
    "17. Time complexity of accessing elements in a dictionary:\n",
    "O(1) on average (hashing)"
   ]
  },
  {
   "cell_type": "markdown",
   "id": "bd09f397-9f3e-47a7-977c-5b5667d200f9",
   "metadata": {},
   "source": [
    "18. When are lists preferred over dictionaries?\n",
    "When order matters\n",
    "When data doesn’t need key-value structure\n",
    "When you're working with simple sequences"
   ]
  },
  {
   "cell_type": "code",
   "execution_count": 22,
   "id": "49f53807-cd8c-4c0d-8f2b-84cd628be53a",
   "metadata": {},
   "outputs": [
    {
     "name": "stdout",
     "output_type": "stream",
     "text": [
      "['Song A', 'Song B', 'Song C']\n"
     ]
    }
   ],
   "source": [
    "# for Songs Don't Need keys Directly Download songs with this name\n",
    "playlist = [\"Song A\", \"Song B\", \"Song C\"]\n",
    "print(playlist)"
   ]
  },
  {
   "cell_type": "code",
   "execution_count": 23,
   "id": "a2a6c078-ae2b-444f-befc-492bb4a33d03",
   "metadata": {},
   "outputs": [
    {
     "name": "stdout",
     "output_type": "stream",
     "text": [
      "{'Riya': '9876543210', 'Seha': '8765432109'}\n"
     ]
    }
   ],
   "source": [
    "# Need key-value structure who's number is this?\n",
    "phonebook = {\"Riya\": \"9876543210\", \"Seha\": \"8765432109\"}\n",
    "print(phonebook)"
   ]
  },
  {
   "cell_type": "markdown",
   "id": "43e78030-5ebe-40c0-8d8b-544738f6fe41",
   "metadata": {},
   "source": [
    "19. Why are dictionaries considered unordered (before Python 3.7)?\n",
    "Earlier versions didn’t maintain insertion order.\n",
    "Now in Python 3.7+, they do, but conceptually, dictionaries still don’t rely on order for data retrieval."
   ]
  },
  {
   "cell_type": "markdown",
   "id": "b64da43b-7057-4941-8dec-7578b4928515",
   "metadata": {},
   "source": [
    "20. Difference between list and dictionary in data retrieval:\n",
    "List: Access by index → my_list[0]\n",
    "\n",
    "Dict: Access by key → my_dict[\"name\"]\n",
    "\n",
    "Dicts are better when you need meaningful labels for data."
   ]
  },
  {
   "cell_type": "code",
   "execution_count": 25,
   "id": "6df4b315-ac94-48da-b809-8c805274caef",
   "metadata": {},
   "outputs": [
    {
     "name": "stdout",
     "output_type": "stream",
     "text": [
      "Yunsu\n"
     ]
    }
   ],
   "source": [
    "# List: Access by index → my_list[0]\n",
    "list=[\"Neha\",\"Yunsu\",\"Seha\"]\n",
    "print(list[1]) #data access"
   ]
  },
  {
   "cell_type": "code",
   "execution_count": 30,
   "id": "3aa6c8fe-f3bd-4cca-b28f-5885cad20db9",
   "metadata": {},
   "outputs": [
    {
     "name": "stdout",
     "output_type": "stream",
     "text": [
      "23\n"
     ]
    }
   ],
   "source": [
    "# Dict: Access by key → my_dict[\"name\"]\n",
    "student={\n",
    "    \"name\":\"Seha\",\n",
    "    \"age\": 23,\n",
    "    \"is_adult\":True\n",
    "}\n",
    "print(student[\"age\"]) #data retrival"
   ]
  },
  {
   "cell_type": "markdown",
   "id": "35274fb1-f565-4703-9458-e178d89a4c51",
   "metadata": {},
   "source": [
    "**Practical Questions**"
   ]
  },
  {
   "cell_type": "code",
   "execution_count": 31,
   "id": "bd7deb1b-247f-452f-a65a-a8bb82e2db7f",
   "metadata": {},
   "outputs": [
    {
     "name": "stdout",
     "output_type": "stream",
     "text": [
      "Neha\n"
     ]
    }
   ],
   "source": [
    "# 1. Create a string with your name and print it\n",
    "name = \"Neha\"\n",
    "print(name)"
   ]
  },
  {
   "cell_type": "code",
   "execution_count": 32,
   "id": "cdce537d-ad34-4dc8-b928-fc3293a13c1e",
   "metadata": {},
   "outputs": [
    {
     "name": "stdout",
     "output_type": "stream",
     "text": [
      "11\n"
     ]
    }
   ],
   "source": [
    "# 2. Find the length of the string \"Hello World\"\n",
    "print(len(\"Hello World\"))"
   ]
  },
  {
   "cell_type": "code",
   "execution_count": 33,
   "id": "c23d3d63-e57b-42a4-b7e4-28c090d7565b",
   "metadata": {},
   "outputs": [
    {
     "name": "stdout",
     "output_type": "stream",
     "text": [
      "Pyt\n"
     ]
    }
   ],
   "source": [
    "# 3. Slice the first 3 characters from the string \"Python Programming\"\n",
    "print(\"Python Programming\"[0:3])"
   ]
  },
  {
   "cell_type": "code",
   "execution_count": 34,
   "id": "018b4915-538d-438c-9589-074831f0efdb",
   "metadata": {},
   "outputs": [
    {
     "name": "stdout",
     "output_type": "stream",
     "text": [
      "HELLO\n"
     ]
    }
   ],
   "source": [
    "# 4. Convert the string \"hello\" to uppercase\n",
    "print(\"hello\".upper())"
   ]
  },
  {
   "cell_type": "code",
   "execution_count": 35,
   "id": "f984f168-4dc8-4cd1-81d3-04e8a72fc309",
   "metadata": {},
   "outputs": [
    {
     "name": "stdout",
     "output_type": "stream",
     "text": [
      "I like orange\n"
     ]
    }
   ],
   "source": [
    "# 5. Replace the word \"apple\" with \"orange\" in the string \"I like apple\"\n",
    "print(\"I like apple\".replace(\"apple\", \"orange\"))"
   ]
  },
  {
   "cell_type": "code",
   "execution_count": 36,
   "id": "2caa7ac9-586f-4da9-9d32-f669e28a80f0",
   "metadata": {},
   "outputs": [
    {
     "name": "stdout",
     "output_type": "stream",
     "text": [
      "[1, 2, 3, 4, 5]\n"
     ]
    }
   ],
   "source": [
    "# 6. Create a list with numbers 1 to 5 and print it\n",
    "print([1, 2, 3, 4, 5])"
   ]
  },
  {
   "cell_type": "code",
   "execution_count": 38,
   "id": "6adb4fd0-e93e-40d4-9ca3-6c42d49993d7",
   "metadata": {},
   "outputs": [
    {
     "name": "stdout",
     "output_type": "stream",
     "text": [
      "[1, 2, 3, 4, 10]\n"
     ]
    }
   ],
   "source": [
    "# 7. Append the number 10 to the list [1, 2, 3, 4]\n",
    "lst1 = [1, 2, 3, 4]\n",
    "lst1.append(10)\n",
    "print(lst1)"
   ]
  },
  {
   "cell_type": "code",
   "execution_count": 39,
   "id": "d066b3e9-bc74-40e7-aeb3-960fe5dc4726",
   "metadata": {},
   "outputs": [
    {
     "name": "stdout",
     "output_type": "stream",
     "text": [
      "[1, 2, 4, 5]\n"
     ]
    }
   ],
   "source": [
    "# 8. Remove the number 3 from the list [1, 2, 3, 4, 5]\n",
    "lst2 = [1, 2, 3, 4, 5]\n",
    "lst2.remove(3)\n",
    "print(lst2)"
   ]
  },
  {
   "cell_type": "code",
   "execution_count": 40,
   "id": "56cab7f0-350c-471f-a760-20712118eb26",
   "metadata": {},
   "outputs": [
    {
     "name": "stdout",
     "output_type": "stream",
     "text": [
      "b\n"
     ]
    }
   ],
   "source": [
    "# 9. Access the second element in the list ['a', 'b', 'c', 'd']\n",
    "print(['a', 'b', 'c', 'd'][1])"
   ]
  },
  {
   "cell_type": "code",
   "execution_count": 41,
   "id": "05a00356-e191-4735-99b8-895d7ae5bd17",
   "metadata": {},
   "outputs": [
    {
     "name": "stdout",
     "output_type": "stream",
     "text": [
      "[50, 40, 30, 20, 10]\n"
     ]
    }
   ],
   "source": [
    "# 10. Reverse the list [10, 20, 30, 40, 50]\n",
    "lst3 = [10, 20, 30, 40, 50]\n",
    "lst3.reverse()\n",
    "print(lst3)"
   ]
  },
  {
   "cell_type": "code",
   "execution_count": 42,
   "id": "a3defb27-0f41-48cc-b8e7-ab8537287ef4",
   "metadata": {},
   "outputs": [
    {
     "name": "stdout",
     "output_type": "stream",
     "text": [
      "(100, 200, 300)\n"
     ]
    }
   ],
   "source": [
    "# 11. Create a tuple with the elements 100, 200, 300 and print it\n",
    "print((100, 200, 300))"
   ]
  },
  {
   "cell_type": "code",
   "execution_count": 43,
   "id": "7c914857-8194-4789-b1c8-b555167ebd52",
   "metadata": {},
   "outputs": [
    {
     "name": "stdout",
     "output_type": "stream",
     "text": [
      "blue\n"
     ]
    }
   ],
   "source": [
    "# 12. Access the second-to-last element of the tuple ('red', 'green', 'blue', 'yellow')\n",
    "print(('red', 'green', 'blue', 'yellow')[-2])"
   ]
  },
  {
   "cell_type": "code",
   "execution_count": 44,
   "id": "031933d4-1e0d-486c-ab9e-7f0d5c157ed7",
   "metadata": {},
   "outputs": [
    {
     "name": "stdout",
     "output_type": "stream",
     "text": [
      "5\n"
     ]
    }
   ],
   "source": [
    "# 13. Find the minimum number in the tuple (10, 20, 5, 15)\n",
    "print(min((10, 20, 5, 15)))"
   ]
  },
  {
   "cell_type": "code",
   "execution_count": 45,
   "id": "66c1557f-ffec-41f7-ac5a-fa3bce43e72a",
   "metadata": {},
   "outputs": [
    {
     "name": "stdout",
     "output_type": "stream",
     "text": [
      "1\n"
     ]
    }
   ],
   "source": [
    "# 14. Find the index of the element \"cat\" in the tuple ('dog', 'cat', 'rabbit')\n",
    "print(('dog', 'cat', 'rabbit').index(\"cat\"))"
   ]
  },
  {
   "cell_type": "code",
   "execution_count": 47,
   "id": "4be5a9f8-5915-4f61-9d1a-15d4cfc25174",
   "metadata": {},
   "outputs": [
    {
     "name": "stdout",
     "output_type": "stream",
     "text": [
      "Kiwi Available\n"
     ]
    }
   ],
   "source": [
    "# 15. Create a tuple with 3 fruits and check if \"kiwi\" is in it\n",
    "fruits = (\"apple\", \"banana\", \"kiwi\")\n",
    "if \"kiwi\" in fruits:\n",
    "    print(\"Kiwi Available\")\n",
    "else:\n",
    "    print(\"Kiwi isn't Available\")\n",
    "    "
   ]
  },
  {
   "cell_type": "code",
   "execution_count": 48,
   "id": "d5ffe969-80dd-4f5b-b718-67cf7c3405ab",
   "metadata": {},
   "outputs": [
    {
     "name": "stdout",
     "output_type": "stream",
     "text": [
      "{'b', 'c', 'a'}\n"
     ]
    }
   ],
   "source": [
    "# 16. Create a set with the elements 'a', 'b', 'c' and print it\n",
    "print(set(['a', 'b', 'c']))"
   ]
  },
  {
   "cell_type": "code",
   "execution_count": 49,
   "id": "fb4ac558-5b92-4d00-939c-9681a9373743",
   "metadata": {},
   "outputs": [
    {
     "name": "stdout",
     "output_type": "stream",
     "text": [
      "set()\n"
     ]
    }
   ],
   "source": [
    "# 17. Clear all elements from the set {1, 2, 3, 4, 5}\n",
    "s1 = {1, 2, 3, 4, 5}\n",
    "s1.clear()\n",
    "print(s1)"
   ]
  },
  {
   "cell_type": "code",
   "execution_count": 50,
   "id": "87a4af27-e0e8-44fd-9725-5b5cbe252825",
   "metadata": {},
   "outputs": [
    {
     "name": "stdout",
     "output_type": "stream",
     "text": [
      "{1, 2, 3}\n"
     ]
    }
   ],
   "source": [
    "# 18. Remove the element 4 from the set {1, 2, 3, 4}\n",
    "s2 = {1, 2, 3, 4}\n",
    "s2.remove(4)\n",
    "print(s2)"
   ]
  },
  {
   "cell_type": "code",
   "execution_count": 51,
   "id": "cf77e8e1-995f-4a2b-9979-34e581f4c101",
   "metadata": {},
   "outputs": [
    {
     "name": "stdout",
     "output_type": "stream",
     "text": [
      "{1, 2, 3, 4, 5}\n"
     ]
    }
   ],
   "source": [
    "# 19. Find the union of two sets {1, 2, 3} and {3, 4, 5}\n",
    "print({1, 2, 3}.union({3, 4, 5}))"
   ]
  },
  {
   "cell_type": "code",
   "execution_count": 52,
   "id": "0cd6c018-e168-4d4d-b2e7-7e0e43261432",
   "metadata": {},
   "outputs": [
    {
     "name": "stdout",
     "output_type": "stream",
     "text": [
      "{2, 3}\n"
     ]
    }
   ],
   "source": [
    "# 20. Find the intersection of two sets {1, 2, 3} and {2, 3, 4}\n",
    "print({1, 2, 3}.intersection({2, 3, 4}))"
   ]
  },
  {
   "cell_type": "code",
   "execution_count": 53,
   "id": "b998ebed-1943-4957-9d75-c2ca55f11b65",
   "metadata": {},
   "outputs": [
    {
     "name": "stdout",
     "output_type": "stream",
     "text": [
      "{'name': 'Neha', 'age': 25, 'city': 'Pune'}\n"
     ]
    }
   ],
   "source": [
    "# 21. Create a dictionary with keys \"name\", \"age\", \"city\", and print it\n",
    "person = {\"name\": \"Neha\", \"age\": 25, \"city\": \"Pune\"}\n",
    "print(person)"
   ]
  },
  {
   "cell_type": "code",
   "execution_count": 54,
   "id": "79b095dd-2888-469a-ba9a-0c0c319c5610",
   "metadata": {},
   "outputs": [
    {
     "name": "stdout",
     "output_type": "stream",
     "text": [
      "{'name': 'John', 'age': 25, 'country': 'USA'}\n"
     ]
    }
   ],
   "source": [
    "# 22. Add a key \"country\": \"USA\" to the dictionary\n",
    "person2 = {'name': 'John', 'age': 25}\n",
    "person2[\"country\"] = \"USA\"\n",
    "print(person2)"
   ]
  },
  {
   "cell_type": "code",
   "execution_count": 55,
   "id": "081947d6-8f69-45cf-9991-095f1047af2a",
   "metadata": {},
   "outputs": [
    {
     "name": "stdout",
     "output_type": "stream",
     "text": [
      "Alice\n"
     ]
    }
   ],
   "source": [
    "# 23. Access the value for key \"name\" in the dictionary\n",
    "print({'name': 'Alice', 'age': 30}[\"name\"])"
   ]
  },
  {
   "cell_type": "code",
   "execution_count": 56,
   "id": "27653736-5298-40f8-a026-aef53e80c6fd",
   "metadata": {},
   "outputs": [
    {
     "name": "stdout",
     "output_type": "stream",
     "text": [
      "{'name': 'Bob', 'city': 'New York'}\n"
     ]
    }
   ],
   "source": [
    "# 24. Remove the key \"age\" from the dictionary\n",
    "d = {'name': 'Bob', 'age': 22, 'city': 'New York'}\n",
    "d.pop(\"age\")\n",
    "print(d)"
   ]
  },
  {
   "cell_type": "code",
   "execution_count": 60,
   "id": "a86bf758-2152-4f1e-bef5-c78d946b8075",
   "metadata": {},
   "outputs": [
    {
     "name": "stdout",
     "output_type": "stream",
     "text": [
      "Paris\n"
     ]
    }
   ],
   "source": [
    "# 25. Check if \"city\" exists in the dictionary\n",
    "stud_info={'name': 'Alice', 'city': 'Paris'}\n",
    "if \"city\" in stud_info:\n",
    "    print(stud_info[\"city\"])\n",
    "else:\n",
    "    print(\"There is no city\")"
   ]
  },
  {
   "cell_type": "code",
   "execution_count": 61,
   "id": "3d3dac5d-a098-4985-9b1e-6e0c7897bf5c",
   "metadata": {},
   "outputs": [
    {
     "name": "stdout",
     "output_type": "stream",
     "text": [
      "[1, 2, 3] (4, 5, 6) {'a': 1, 'b': 2}\n"
     ]
    }
   ],
   "source": [
    "# 26. Create a list, tuple, and dictionary and print them\n",
    "my_list = [1, 2, 3]\n",
    "my_tuple = (4, 5, 6)\n",
    "my_dict = {\"a\": 1, \"b\": 2}\n",
    "print(my_list, my_tuple, my_dict)"
   ]
  },
  {
   "cell_type": "code",
   "execution_count": 63,
   "id": "fe2e42a0-56c9-48f5-b1cd-59c7818ce0ba",
   "metadata": {},
   "outputs": [
    {
     "name": "stdout",
     "output_type": "stream",
     "text": [
      "[14, 17, 57, 82, 97]\n"
     ]
    }
   ],
   "source": [
    "# 27. Create a list of 5 random numbers between 1 and 100, sort, and print\n",
    "import random\n",
    "rand_list = random.sample(range(1, 101), 5)\n",
    "rand_list.sort()\n",
    "print(rand_list)"
   ]
  },
  {
   "cell_type": "code",
   "execution_count": 64,
   "id": "c8fd3529-b47d-4aa6-9d6d-e14ca89de6ee",
   "metadata": {},
   "outputs": [
    {
     "name": "stdout",
     "output_type": "stream",
     "text": [
      "four\n"
     ]
    }
   ],
   "source": [
    "# 28. Create a list with strings and print element at third index\n",
    "string_list = [\"one\", \"two\", \"three\", \"four\", \"five\"]\n",
    "print(string_list[3])"
   ]
  },
  {
   "cell_type": "code",
   "execution_count": 67,
   "id": "ae87ab6b-fe5d-44e4-90f7-be6e76817fba",
   "metadata": {},
   "outputs": [
    {
     "name": "stdout",
     "output_type": "stream",
     "text": [
      "{'a': 1, 'b': 2, 'c': 3, 'd': 4}\n"
     ]
    }
   ],
   "source": [
    "# 29. Combine two dictionaries and print result\n",
    "dict1 = {\"a\": 1, \"b\": 2}\n",
    "dict2 = {\"c\": 3, \"d\": 4}\n",
    "combined = {**dict1, **dict2}\n",
    "print(combined)"
   ]
  },
  {
   "cell_type": "code",
   "execution_count": 68,
   "id": "a89be840-ddb6-4dd7-947d-c723dda00d3a",
   "metadata": {},
   "outputs": [
    {
     "name": "stdout",
     "output_type": "stream",
     "text": [
      "{'apple', 'cherry', 'banana'}\n"
     ]
    }
   ],
   "source": [
    "# 30. Convert a list of strings into a set\n",
    "str_list = [\"apple\", \"banana\", \"apple\", \"cherry\"]\n",
    "print(set(str_list))"
   ]
  },
  {
   "cell_type": "code",
   "execution_count": null,
   "id": "07f47c4d-719a-4433-9127-cb721d5230a7",
   "metadata": {},
   "outputs": [],
   "source": []
  }
 ],
 "metadata": {
  "kernelspec": {
   "display_name": "Python 3 (ipykernel)",
   "language": "python",
   "name": "python3"
  },
  "language_info": {
   "codemirror_mode": {
    "name": "ipython",
    "version": 3
   },
   "file_extension": ".py",
   "mimetype": "text/x-python",
   "name": "python",
   "nbconvert_exporter": "python",
   "pygments_lexer": "ipython3",
   "version": "3.13.5"
  }
 },
 "nbformat": 4,
 "nbformat_minor": 5
}
